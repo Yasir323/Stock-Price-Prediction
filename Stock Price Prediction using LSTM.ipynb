{
 "cells": [
  {
   "cell_type": "markdown",
   "metadata": {},
   "source": [
    "# Import libraries"
   ]
  },
  {
   "cell_type": "code",
   "execution_count": 2,
   "metadata": {},
   "outputs": [],
   "source": [
    "import numpy as np\n",
    "import matplotlib.pyplot as plt\n",
    "import pandas as pd"
   ]
  },
  {
   "cell_type": "markdown",
   "metadata": {},
   "source": [
    "# Import dataset"
   ]
  },
  {
   "cell_type": "code",
   "execution_count": 7,
   "metadata": {},
   "outputs": [],
   "source": [
    "df = pd.read_csv(\"Google_Stock_Price_Train.csv\")"
   ]
  },
  {
   "cell_type": "code",
   "execution_count": 8,
   "metadata": {},
   "outputs": [],
   "source": [
    "training_set = df.iloc[:, 1:2].values # Only Opening price"
   ]
  },
  {
   "cell_type": "code",
   "execution_count": 9,
   "metadata": {},
   "outputs": [
    {
     "data": {
      "text/plain": [
       "(1258, 6)"
      ]
     },
     "execution_count": 9,
     "metadata": {},
     "output_type": "execute_result"
    }
   ],
   "source": [
    "df.shape"
   ]
  },
  {
   "cell_type": "code",
   "execution_count": 10,
   "metadata": {},
   "outputs": [
    {
     "data": {
      "text/plain": [
       "(1258, 1)"
      ]
     },
     "execution_count": 10,
     "metadata": {},
     "output_type": "execute_result"
    }
   ],
   "source": [
    "training_set.shape"
   ]
  },
  {
   "cell_type": "markdown",
   "metadata": {},
   "source": [
    "# Feature Scaling\n",
    "For RNN we prefer to use MinMaxScaler"
   ]
  },
  {
   "cell_type": "code",
   "execution_count": 11,
   "metadata": {},
   "outputs": [],
   "source": [
    "from sklearn.preprocessing import MinMaxScaler\n",
    "sc = MinMaxScaler(feature_range = (0, 1))\n",
    "train_set_scaled = sc.fit_transform(training_set)"
   ]
  },
  {
   "cell_type": "code",
   "execution_count": 12,
   "metadata": {},
   "outputs": [
    {
     "data": {
      "text/plain": [
       "array([[325.25],\n",
       "       [331.27],\n",
       "       [329.83],\n",
       "       [328.34],\n",
       "       [322.04]])"
      ]
     },
     "execution_count": 12,
     "metadata": {},
     "output_type": "execute_result"
    }
   ],
   "source": [
    "training_set[:5]"
   ]
  },
  {
   "cell_type": "code",
   "execution_count": 13,
   "metadata": {},
   "outputs": [
    {
     "data": {
      "text/plain": [
       "array([[0.08581368],\n",
       "       [0.09701243],\n",
       "       [0.09433366],\n",
       "       [0.09156187],\n",
       "       [0.07984225]])"
      ]
     },
     "execution_count": 13,
     "metadata": {},
     "output_type": "execute_result"
    }
   ],
   "source": [
    "train_set_scaled[:5]"
   ]
  },
  {
   "cell_type": "markdown",
   "metadata": {},
   "source": [
    "### Create a data structure with 60 timestpes and 1 output\n",
    "That is, it'll train on 60 stockprice values and predict the next one."
   ]
  },
  {
   "cell_type": "code",
   "execution_count": 14,
   "metadata": {},
   "outputs": [
    {
     "data": {
      "text/plain": [
       "((1198, 60), (1198,))"
      ]
     },
     "execution_count": 14,
     "metadata": {},
     "output_type": "execute_result"
    }
   ],
   "source": [
    "X_train = []\n",
    "y_train = []\n",
    "max = train_set_scaled.shape[0]\n",
    "for i in range(60, max):\n",
    "    X_train.append(train_set_scaled[i - 60:i, 0])\n",
    "    y_train.append(train_set_scaled[i, 0])\n",
    "X_train, y_train = np.array(X_train), np.array(y_train)\n",
    "X_train.shape, y_train.shape"
   ]
  },
  {
   "cell_type": "markdown",
   "metadata": {},
   "source": [
    "# Reshaping\n",
    "RNN layer in keras has inputs: A 3D tensor, with shape `[batch, timesteps, feature]`"
   ]
  },
  {
   "cell_type": "code",
   "execution_count": 15,
   "metadata": {},
   "outputs": [
    {
     "data": {
      "text/plain": [
       "(1198, 60, 1)"
      ]
     },
     "execution_count": 15,
     "metadata": {},
     "output_type": "execute_result"
    }
   ],
   "source": [
    "X_train = np.reshape(X_train, (X_train.shape[0], X_train.shape[1], 1))\n",
    "X_train.shape"
   ]
  },
  {
   "cell_type": "markdown",
   "metadata": {},
   "source": [
    "# Building the RNN"
   ]
  },
  {
   "cell_type": "code",
   "execution_count": 16,
   "metadata": {},
   "outputs": [],
   "source": [
    "from keras.models import Sequential\n",
    "from keras.layers import Dense\n",
    "from keras.layers import LSTM\n",
    "from keras.layers import Dropout"
   ]
  },
  {
   "cell_type": "code",
   "execution_count": 18,
   "metadata": {},
   "outputs": [],
   "source": [
    "regressor = Sequential()\n",
    "# First LSTM layer\n",
    "# we are using stacked LSTM so we'll set return_sequence = True\n",
    "# For inout shape we'll only provide timesteps and features\n",
    "regressor.add(LSTM(units=50, return_sequences=True,\n",
    "                   input_shape=(X_train.shape[1], X_train.shape[2])))\n",
    "regressor.add(Dropout(0.2))"
   ]
  },
  {
   "cell_type": "code",
   "execution_count": 19,
   "metadata": {},
   "outputs": [],
   "source": [
    "# Second LSTM layer\n",
    "regressor.add(LSTM(units=50, return_sequences=True))\n",
    "regressor.add(Dropout(0.2))\n",
    "# Third LSTM layer\n",
    "regressor.add(LSTM(units=50, return_sequences=True))\n",
    "regressor.add(Dropout(0.2))\n",
    "# Fourth LSTM layer\n",
    "regressor.add(LSTM(units=50, return_sequences=False))\n",
    "regressor.add(Dropout(0.2))"
   ]
  },
  {
   "cell_type": "code",
   "execution_count": 20,
   "metadata": {},
   "outputs": [],
   "source": [
    "# Output Layer\n",
    "regressor.add(Dense(units=1))"
   ]
  },
  {
   "cell_type": "code",
   "execution_count": 21,
   "metadata": {},
   "outputs": [],
   "source": [
    "regressor.compile(optimizer='adam', loss='mean_squared_error')"
   ]
  },
  {
   "cell_type": "markdown",
   "metadata": {},
   "source": [
    "# Training the model"
   ]
  },
  {
   "cell_type": "code",
   "execution_count": 22,
   "metadata": {},
   "outputs": [
    {
     "name": "stdout",
     "output_type": "stream",
     "text": [
      "Epoch 1/100\n",
      "38/38 [==============================] - 26s 138ms/step - loss: 0.0955\n",
      "Epoch 2/100\n",
      "38/38 [==============================] - 5s 129ms/step - loss: 0.0067\n",
      "Epoch 3/100\n",
      "38/38 [==============================] - 5s 129ms/step - loss: 0.0061\n",
      "Epoch 4/100\n",
      "38/38 [==============================] - 5s 131ms/step - loss: 0.0062\n",
      "Epoch 5/100\n",
      "38/38 [==============================] - 5s 129ms/step - loss: 0.0050\n",
      "Epoch 6/100\n",
      "38/38 [==============================] - 5s 129ms/step - loss: 0.0047\n",
      "Epoch 7/100\n",
      "38/38 [==============================] - 5s 129ms/step - loss: 0.0049\n",
      "Epoch 8/100\n",
      "38/38 [==============================] - 5s 134ms/step - loss: 0.0043\n",
      "Epoch 9/100\n",
      "38/38 [==============================] - 5s 136ms/step - loss: 0.0046\n",
      "Epoch 10/100\n",
      "38/38 [==============================] - 5s 138ms/step - loss: 0.0047\n",
      "Epoch 11/100\n",
      "38/38 [==============================] - 5s 136ms/step - loss: 0.0045\n",
      "Epoch 12/100\n",
      "38/38 [==============================] - 5s 139ms/step - loss: 0.0039\n",
      "Epoch 13/100\n",
      "38/38 [==============================] - 5s 136ms/step - loss: 0.0045\n",
      "Epoch 14/100\n",
      "38/38 [==============================] - 5s 138ms/step - loss: 0.0041\n",
      "Epoch 15/100\n",
      "38/38 [==============================] - 6s 151ms/step - loss: 0.0038\n",
      "Epoch 16/100\n",
      "38/38 [==============================] - 5s 136ms/step - loss: 0.0045\n",
      "Epoch 17/100\n",
      "38/38 [==============================] - 5s 132ms/step - loss: 0.0039\n",
      "Epoch 18/100\n",
      "38/38 [==============================] - 5s 129ms/step - loss: 0.0034\n",
      "Epoch 19/100\n",
      "38/38 [==============================] - 5s 129ms/step - loss: 0.0030\n",
      "Epoch 20/100\n",
      "38/38 [==============================] - 5s 136ms/step - loss: 0.0037\n",
      "Epoch 21/100\n",
      "38/38 [==============================] - 5s 132ms/step - loss: 0.0033\n",
      "Epoch 22/100\n",
      "38/38 [==============================] - 5s 129ms/step - loss: 0.0030\n",
      "Epoch 23/100\n",
      "38/38 [==============================] - 5s 129ms/step - loss: 0.0035\n",
      "Epoch 24/100\n",
      "38/38 [==============================] - 5s 129ms/step - loss: 0.0037\n",
      "Epoch 25/100\n",
      "38/38 [==============================] - 5s 130ms/step - loss: 0.0042\n",
      "Epoch 26/100\n",
      "38/38 [==============================] - 5s 130ms/step - loss: 0.0036\n",
      "Epoch 27/100\n",
      "38/38 [==============================] - 5s 139ms/step - loss: 0.0031\n",
      "Epoch 28/100\n",
      "38/38 [==============================] - 5s 126ms/step - loss: 0.0027\n",
      "Epoch 29/100\n",
      "38/38 [==============================] - 5s 124ms/step - loss: 0.0029\n",
      "Epoch 30/100\n",
      "38/38 [==============================] - 5s 126ms/step - loss: 0.0031\n",
      "Epoch 31/100\n",
      "38/38 [==============================] - 5s 124ms/step - loss: 0.0037\n",
      "Epoch 32/100\n",
      "38/38 [==============================] - 5s 124ms/step - loss: 0.0031\n",
      "Epoch 33/100\n",
      "38/38 [==============================] - 5s 139ms/step - loss: 0.0034\n",
      "Epoch 34/100\n",
      "38/38 [==============================] - 6s 148ms/step - loss: 0.0040\n",
      "Epoch 35/100\n",
      "38/38 [==============================] - 5s 130ms/step - loss: 0.0027\n",
      "Epoch 36/100\n",
      "38/38 [==============================] - 5s 135ms/step - loss: 0.0030\n",
      "Epoch 37/100\n",
      "38/38 [==============================] - 5s 132ms/step - loss: 0.0027\n",
      "Epoch 38/100\n",
      "38/38 [==============================] - 5s 131ms/step - loss: 0.0029\n",
      "Epoch 39/100\n",
      "38/38 [==============================] - 5s 136ms/step - loss: 0.0032\n",
      "Epoch 40/100\n",
      "38/38 [==============================] - 5s 130ms/step - loss: 0.0025\n",
      "Epoch 41/100\n",
      "38/38 [==============================] - 5s 130ms/step - loss: 0.0027\n",
      "Epoch 42/100\n",
      "38/38 [==============================] - 5s 130ms/step - loss: 0.0027\n",
      "Epoch 43/100\n",
      "38/38 [==============================] - 5s 127ms/step - loss: 0.0026\n",
      "Epoch 44/100\n",
      "38/38 [==============================] - 5s 124ms/step - loss: 0.0030\n",
      "Epoch 45/100\n",
      "38/38 [==============================] - 5s 125ms/step - loss: 0.0027\n",
      "Epoch 46/100\n",
      "38/38 [==============================] - 5s 124ms/step - loss: 0.0025\n",
      "Epoch 47/100\n",
      "38/38 [==============================] - 5s 124ms/step - loss: 0.0025\n",
      "Epoch 48/100\n",
      "38/38 [==============================] - 5s 124ms/step - loss: 0.0024\n",
      "Epoch 49/100\n",
      "38/38 [==============================] - 5s 124ms/step - loss: 0.0026\n",
      "Epoch 50/100\n",
      "38/38 [==============================] - 5s 124ms/step - loss: 0.0024\n",
      "Epoch 51/100\n",
      "38/38 [==============================] - 5s 124ms/step - loss: 0.0023\n",
      "Epoch 52/100\n",
      "38/38 [==============================] - 5s 125ms/step - loss: 0.0027\n",
      "Epoch 53/100\n",
      "38/38 [==============================] - 5s 128ms/step - loss: 0.0023\n",
      "Epoch 54/100\n",
      "38/38 [==============================] - 5s 130ms/step - loss: 0.0025\n",
      "Epoch 55/100\n",
      "38/38 [==============================] - 5s 127ms/step - loss: 0.0023\n",
      "Epoch 56/100\n",
      "38/38 [==============================] - 5s 125ms/step - loss: 0.0024\n",
      "Epoch 57/100\n",
      "38/38 [==============================] - 5s 125ms/step - loss: 0.0020\n",
      "Epoch 58/100\n",
      "38/38 [==============================] - 5s 124ms/step - loss: 0.0022\n",
      "Epoch 59/100\n",
      "38/38 [==============================] - 5s 131ms/step - loss: 0.0020\n",
      "Epoch 60/100\n",
      "38/38 [==============================] - 5s 130ms/step - loss: 0.0022\n",
      "Epoch 61/100\n",
      "38/38 [==============================] - 5s 130ms/step - loss: 0.0020\n",
      "Epoch 62/100\n",
      "38/38 [==============================] - 5s 134ms/step - loss: 0.0019\n",
      "Epoch 63/100\n",
      "38/38 [==============================] - 5s 136ms/step - loss: 0.0019\n",
      "Epoch 64/100\n",
      "38/38 [==============================] - 5s 135ms/step - loss: 0.0018\n",
      "Epoch 65/100\n",
      "38/38 [==============================] - 5s 134ms/step - loss: 0.0021\n",
      "Epoch 66/100\n",
      "38/38 [==============================] - 5s 133ms/step - loss: 0.0020\n",
      "Epoch 67/100\n",
      "38/38 [==============================] - 5s 130ms/step - loss: 0.0019\n",
      "Epoch 68/100\n",
      "38/38 [==============================] - 5s 137ms/step - loss: 0.0021\n",
      "Epoch 69/100\n",
      "38/38 [==============================] - 5s 131ms/step - loss: 0.0021\n",
      "Epoch 70/100\n",
      "38/38 [==============================] - 5s 133ms/step - loss: 0.0019\n",
      "Epoch 71/100\n",
      "38/38 [==============================] - 5s 129ms/step - loss: 0.0021\n",
      "Epoch 72/100\n",
      "38/38 [==============================] - 5s 129ms/step - loss: 0.0021\n",
      "Epoch 73/100\n",
      "38/38 [==============================] - 5s 129ms/step - loss: 0.0020\n",
      "Epoch 74/100\n",
      "38/38 [==============================] - 5s 130ms/step - loss: 0.0017\n",
      "Epoch 75/100\n",
      "38/38 [==============================] - 5s 131ms/step - loss: 0.0018\n",
      "Epoch 76/100\n",
      "38/38 [==============================] - 5s 139ms/step - loss: 0.0019\n",
      "Epoch 77/100\n",
      "38/38 [==============================] - 5s 138ms/step - loss: 0.0017\n",
      "Epoch 78/100\n",
      "38/38 [==============================] - 5s 131ms/step - loss: 0.0020\n",
      "Epoch 79/100\n",
      "38/38 [==============================] - 5s 136ms/step - loss: 0.0021\n",
      "Epoch 80/100\n",
      "38/38 [==============================] - 5s 133ms/step - loss: 0.0020\n",
      "Epoch 81/100\n",
      "38/38 [==============================] - 5s 129ms/step - loss: 0.0016\n",
      "Epoch 82/100\n",
      "38/38 [==============================] - 5s 130ms/step - loss: 0.0016\n",
      "Epoch 83/100\n",
      "38/38 [==============================] - 5s 130ms/step - loss: 0.0016\n",
      "Epoch 84/100\n",
      "38/38 [==============================] - 5s 131ms/step - loss: 0.0017\n",
      "Epoch 85/100\n",
      "38/38 [==============================] - 5s 130ms/step - loss: 0.0019\n",
      "Epoch 86/100\n",
      "38/38 [==============================] - 5s 131ms/step - loss: 0.0017\n",
      "Epoch 87/100\n",
      "38/38 [==============================] - 5s 130ms/step - loss: 0.0016\n",
      "Epoch 88/100\n",
      "38/38 [==============================] - 5s 131ms/step - loss: 0.0018\n",
      "Epoch 89/100\n",
      "38/38 [==============================] - 5s 130ms/step - loss: 0.0017\n",
      "Epoch 90/100\n",
      "38/38 [==============================] - 5s 133ms/step - loss: 0.0016\n",
      "Epoch 91/100\n",
      "38/38 [==============================] - 5s 131ms/step - loss: 0.0017\n",
      "Epoch 92/100\n",
      "38/38 [==============================] - 5s 131ms/step - loss: 0.0015\n",
      "Epoch 93/100\n",
      "38/38 [==============================] - 5s 132ms/step - loss: 0.0015\n",
      "Epoch 94/100\n",
      "38/38 [==============================] - 5s 136ms/step - loss: 0.0015\n",
      "Epoch 95/100\n",
      "38/38 [==============================] - 5s 131ms/step - loss: 0.0013\n",
      "Epoch 96/100\n",
      "38/38 [==============================] - 6s 145ms/step - loss: 0.0016\n",
      "Epoch 97/100\n",
      "38/38 [==============================] - 5s 132ms/step - loss: 0.0014\n",
      "Epoch 98/100\n",
      "38/38 [==============================] - 5s 132ms/step - loss: 0.0016\n",
      "Epoch 99/100\n"
     ]
    },
    {
     "name": "stdout",
     "output_type": "stream",
     "text": [
      "38/38 [==============================] - 5s 132ms/step - loss: 0.0015\n",
      "Epoch 100/100\n",
      "38/38 [==============================] - 5s 131ms/step - loss: 0.0015\n"
     ]
    },
    {
     "data": {
      "text/plain": [
       "<tensorflow.python.keras.callbacks.History at 0x297ffcc8bb0>"
      ]
     },
     "execution_count": 22,
     "metadata": {},
     "output_type": "execute_result"
    }
   ],
   "source": [
    "regressor.fit(X_train, y_train, epochs=100,\n",
    "              batch_size=32)"
   ]
  },
  {
   "cell_type": "code",
   "execution_count": 25,
   "metadata": {},
   "outputs": [
    {
     "data": {
      "text/plain": [
       "(20, 1)"
      ]
     },
     "execution_count": 25,
     "metadata": {},
     "output_type": "execute_result"
    }
   ],
   "source": [
    "df_test = pd.read_csv(\"Google_Stock_Price_Test.csv\")\n",
    "real_stock_price = df_test.iloc[:, 1:2].values\n",
    "real_stock_price.shape"
   ]
  },
  {
   "cell_type": "markdown",
   "metadata": {},
   "source": [
    "## Predicting the stock price of January 2017"
   ]
  },
  {
   "cell_type": "code",
   "execution_count": 29,
   "metadata": {},
   "outputs": [
    {
     "data": {
      "text/plain": [
       "(1278,)"
      ]
     },
     "execution_count": 29,
     "metadata": {},
     "output_type": "execute_result"
    }
   ],
   "source": [
    "dataset_total = pd.concat((df['Open'], df_test['Open']), axis=0)\n",
    "dataset_total.shape                            "
   ]
  },
  {
   "cell_type": "code",
   "execution_count": 31,
   "metadata": {},
   "outputs": [],
   "source": [
    "inputs = dataset_total[len(dataset_total) - len(df_test) - 60:].values"
   ]
  },
  {
   "cell_type": "code",
   "execution_count": 32,
   "metadata": {},
   "outputs": [],
   "source": [
    "inputs = inputs.reshape(-1, 1)"
   ]
  },
  {
   "cell_type": "code",
   "execution_count": 33,
   "metadata": {},
   "outputs": [],
   "source": [
    "inputs = sc.transform(inputs)"
   ]
  },
  {
   "cell_type": "code",
   "execution_count": 34,
   "metadata": {},
   "outputs": [
    {
     "data": {
      "text/plain": [
       "(80, 1)"
      ]
     },
     "execution_count": 34,
     "metadata": {},
     "output_type": "execute_result"
    }
   ],
   "source": [
    "inputs.shape"
   ]
  },
  {
   "cell_type": "code",
   "execution_count": 35,
   "metadata": {},
   "outputs": [
    {
     "data": {
      "text/plain": [
       "(20, 60)"
      ]
     },
     "execution_count": 35,
     "metadata": {},
     "output_type": "execute_result"
    }
   ],
   "source": [
    "X_test = []\n",
    "max = inputs.shape[0]\n",
    "for i in range(60, max):\n",
    "    X_test.append(inputs[i - 60:i, 0])\n",
    "X_test = np.array(X_test)\n",
    "X_test.shape"
   ]
  },
  {
   "cell_type": "code",
   "execution_count": 36,
   "metadata": {},
   "outputs": [
    {
     "data": {
      "text/plain": [
       "(20, 60, 1)"
      ]
     },
     "execution_count": 36,
     "metadata": {},
     "output_type": "execute_result"
    }
   ],
   "source": [
    "X_test = np.reshape(X_test, (X_test.shape[0], X_test.shape[1], 1))\n",
    "X_test.shape"
   ]
  },
  {
   "cell_type": "code",
   "execution_count": 37,
   "metadata": {},
   "outputs": [],
   "source": [
    "predicted_stock_price = regressor.predict(X_test)"
   ]
  },
  {
   "cell_type": "code",
   "execution_count": 38,
   "metadata": {},
   "outputs": [],
   "source": [
    "predicted_stock_price = sc.inverse_transform(predicted_stock_price)"
   ]
  },
  {
   "cell_type": "code",
   "execution_count": 39,
   "metadata": {},
   "outputs": [
    {
     "data": {
      "text/plain": [
       "array([[794.5762 ],\n",
       "       [791.4896 ],\n",
       "       [791.6784 ],\n",
       "       [792.92126],\n",
       "       [796.1928 ]], dtype=float32)"
      ]
     },
     "execution_count": 39,
     "metadata": {},
     "output_type": "execute_result"
    }
   ],
   "source": [
    "predicted_stock_price[:5]"
   ]
  },
  {
   "cell_type": "markdown",
   "metadata": {},
   "source": [
    "# Visualizing the results"
   ]
  },
  {
   "cell_type": "code",
   "execution_count": 40,
   "metadata": {},
   "outputs": [
    {
     "data": {
      "image/png": "[encoded data removed]",
      "text/plain": [
       "<Figure size 432x288 with 1 Axes>"
      ]
     },
     "metadata": {
      "needs_background": "light"
     },
     "output_type": "display_data"
    }
   ],
   "source": [
    "%matplotlib inline\n",
    "plt.plot(real_stock_price, color='red', label='Real Google Stock Price - Jan, 2017')\n",
    "plt.plot(predicted_stock_price, color='blue', label='Predicted Google Stock Price - Jan, 2017')\n",
    "plt.title('Google Stock Price Prediction')\n",
    "plt.xlabel('Time')\n",
    "plt.ylabel('Stock Price')\n",
    "plt.legend()\n",
    "plt.show()"
   ]
  },
  {
   "cell_type": "markdown",
   "metadata": {},
   "source": [
    "### RMSE"
   ]
  },
  {
   "cell_type": "code",
   "execution_count": 43,
   "metadata": {},
   "outputs": [
    {
     "data": {
      "text/plain": [
       "11.138035577630209"
      ]
     },
     "execution_count": 43,
     "metadata": {},
     "output_type": "execute_result"
    }
   ],
   "source": [
    "import math\n",
    "from sklearn.metrics import mean_squared_error\n",
    "rmse = math.sqrt(mean_squared_error(real_stock_price, predicted_stock_price))\n",
    "rmse"
   ]
  }
 ],
 "metadata": {
  "kernelspec": {
   "display_name": "Python 3",
   "language": "python",
   "name": "python3"
  },
  "language_info": {
   "codemirror_mode": {
    "name": "ipython",
    "version": 3
   },
   "file_extension": ".py",
   "mimetype": "text/x-python",
   "name": "python",
   "nbconvert_exporter": "python",
   "pygments_lexer": "ipython3",
   "version": "3.8.4"
  }
 },
 "nbformat": 4,
 "nbformat_minor": 4
}
